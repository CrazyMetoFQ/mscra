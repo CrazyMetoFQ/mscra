{
  "cells": [
    {
      "cell_type": "markdown",
      "source": [
        "# v3.4"
      ],
      "metadata": {
        "id": "Yu-0TwYgCU8K"
      }
    },
    {
      "cell_type": "code",
      "execution_count": 2,
      "metadata": {
        "id": "fymO4m6FKnBd"
      },
      "outputs": [],
      "source": [
        "#@title Imports { display-mode: \"form\" }\n",
        "from time import time as time_now\n",
        "from time import sleep as time_sleep\n",
        "\n",
        "import requests\n",
        "from bs4 import BeautifulSoup\n",
        "\n",
        "import os\n",
        "import google.colab as gc\n",
        "\n",
        "!pip install img2pdf\n",
        "import img2pdf\n",
        "\n",
        "! pip install aiohttp\n",
        "\n",
        "from IPython.core.display import HTML, clear_output\n",
        "from IPython.display import Image,display\n",
        "from pprint import pprint\n",
        "\n",
        "do_clear_output = True #@param {type:\"boolean\"}\n",
        "if do_clear_output:\n",
        "  clear_output()\n",
        "else:pass"
      ]
    },
    {
      "cell_type": "code",
      "source": [
        "#@title cloning { display-mode: \"form\" }\n",
        "path2lib = \"mscra\" #@param {type:\"string\"}\n",
        "!git clone -b CrazyMetoFQ-asyn_lib https://github.com/CrazyMetoFQ/mscra.git \"mscra\""
      ],
      "metadata": {
        "id": "-vz6JAkjJpNX"
      },
      "execution_count": null,
      "outputs": []
    },
    {
      "cell_type": "markdown",
      "source": [
        "## MAIN\n",
        "\n"
      ],
      "metadata": {
        "id": "B5qFEuiJwAIT"
      }
    },
    {
      "cell_type": "code",
      "execution_count": null,
      "metadata": {
        "id": "nidXI5OKCvwB"
      },
      "outputs": [],
      "source": [
        "start_time = time_now()\n",
        "#@title Asyncrous Requests (supa fast multi) THIS IS THE MAIN STUFF TO RUN { display-mode: \"form\" }\n",
        "#@markdown ---\n",
        "#@markdown #Main Stuff:\n",
        "#@markdown >Get the link by going to the websites first chapter then remove the ch number and replace with {}. <br>\n",
        "#@markdown >Min, max are the number of chapters u want\n",
        "# base_link where the number will change in the link such as ch-1, ch-2 put {}\n",
        "base_link = \"https://read-onepiecemanga.com/manga/one-piece-chapter-{}/\" #@param {type:\"string\"}\n",
        "\n",
        "# putting numbers in the link\n",
        "min_ =  1 #@param {type:\"number\"}\n",
        "max_ =   3#@param {type:\"number\"}\n",
        "single_ = False #@param {type:\"boolean\"}\n",
        "\n",
        "#@markdown *↓ use this to change file type (u can natively view img) ↓*\n",
        "save_file_as = \"image\" #@param [\"pdf\", \"image\"]\n",
        "save_file_format = \".jpg\" #@param [\".pdf\", \".jpeg\", \".jpg\", \".png\"] {allow-input: true}\n",
        "\n",
        "#@markdown ---\n",
        "\n",
        "clear_at_end = False #@param {type:\"boolean\"}\n",
        "clear_wait = 0 #@param {type:\"slider\", min:0, max:15, step:1}\n",
        "\n",
        "\n",
        "\n",
        "#@markdown ---\n",
        "#@markdown <br> <br>\n",
        "\n",
        "#@markdown ##Advanced Stuff\n",
        "#@markdown <br>\n",
        "\n",
        "# path to where the pdfs will reside\n",
        "ch_path = \"/content/chps\" #@param {type:\"string\"}\n",
        "#@markdown >><b><i> This is pretty important as it is ```[start:stop:step]``` for the list of imgs </i></b>, (image_args)\n",
        "imag_args = \"0,None,1\" #@param {type:\"string\"}\n",
        "\n",
        "do_zip = False #@param {type:\"boolean\"}\n",
        "do_download = False #@param {type:\"boolean\"}\n",
        "do_delete_prev = True #@param {type:\"boolean\"}\n",
        "\n",
        "round_to = 3 #@param {type:\"slider\", min:1, max:10, step:1}\n",
        "\n",
        "do_print_args = True #@param {type:\"boolean\"}\n",
        "do_print_args = str(do_print_args)\n",
        "\n",
        "zip_file_name = \"file.zip\" #@param [\"/content/file.zip\", \"file.zip\", \"file2.zip\"] {allow-input: true}\n",
        "\n",
        "do_debug = False #@param {type:\"boolean\"}\n",
        "img_key = \"src\" #@param [\"src\", \"data-src\", \"lazy-loading-src\"] {allow-input: true}\n",
        "\n",
        "\n",
        "\n",
        "# correcting path\n",
        "if not os.path.isdir(ch_path):\n",
        "  os.mkdir(ch_path)\n",
        "else:\n",
        "  # deleting previos stuff\n",
        "  if do_delete_prev:\n",
        "    for fn in os.listdir(ch_path):\n",
        "      try:\n",
        "        os.remove(f\"{ch_path}/{fn}\")\n",
        "      except:\n",
        "        for sfn in os.listdir(f\"{ch_path}/{fn}\"):\n",
        "          os.remove(f\"{ch_path}/{fn}/{sfn}\")\n",
        "            \n",
        "        os.removedirs(f\"{ch_path}/{fn}\")\n",
        "      \n",
        "    os.mkdir(ch_path)\n",
        "\n",
        "\n",
        "\n",
        "# MAIN calling\n",
        "! python \"$path2lib/rasyn.py\" $base_link $min_ $max_ $single_ $ch_path $save_file_as $save_file_format $do_print_args $round_to $imag_args $do_debug $img_key\n",
        "\n",
        "\n",
        "\n",
        "ch_end_time = time_now()\n",
        "print(f\"\\nChapter Execution Time {round(ch_end_time - start_time, round_to)}\")\n",
        "\n",
        "\n",
        "if do_zip:\n",
        "  print(\"\\n-----------------------------\\nNow Zipping\")\n",
        "  \n",
        "  # zipping\n",
        "  ! zip -r file.zip $ch_path\n",
        "  \n",
        "  zip_end_time = time_now()\n",
        "  print(f\"\\nZip Execution Time {round(zip_end_time - start_time, round_to)}\")\n",
        "else:\n",
        "  pass\n",
        "\n",
        "if do_download:\n",
        "  if os.path.isfile(\"file.zip\"):\n",
        "    # downloading\n",
        "    gc.files.download(\"file.zip\")\n",
        "  else:\n",
        "    print(\"Do Zip First\")\n",
        "\n",
        "  dw_end_time = time_now()\n",
        "  print(f\"\\nDownload Init Time {round(dw_end_time - start_time, round_to)}\")\n",
        "else:\n",
        "  pass\n",
        "\n",
        "if clear_at_end:\n",
        "  time_sleep(clear_wait)\n",
        "  clear_output()\n",
        "else:pass\n",
        "\n",
        "print(\"You did It\")\n",
        "end_time = time_now()\n",
        "print(f\"\\nTotal Execution time {round(end_time - start_time, round_to)}\")\n"
      ]
    },
    {
      "cell_type": "markdown",
      "metadata": {
        "id": "x0qJKOGqan8R"
      },
      "source": [
        "\n",
        "---\n",
        "\n",
        "\n",
        "It will now take some to download,my code is fast but colab download is slow\n",
        "<br>\n",
        "but if u go in files in folder chps u can individually download a pdf which is faster if u just want to see one chapter.\n",
        "<hr>\n",
        "(btw dont try spam downloading otherwise your browser might block it as spam download)\n",
        "\n",
        "---\n",
        "\n"
      ]
    },
    {
      "cell_type": "code",
      "source": [
        "#@title image class {display-mode: \"form\" }\n",
        "class ImageViewEr:\n",
        "\n",
        "  def __init__(self,image_path):\n",
        "\n",
        "    self.img_path = image_path\n",
        "    self.img_list = [f\"{self.img_path}/{img}\" for img in os.listdir(self.img_path)]\n",
        "\n",
        "  def sort_ls(self, x, y):\n",
        "    \"\"\"\n",
        "    truly sorts image list\n",
        "\n",
        "    x ->  stars wih\n",
        "    y -> ends with\n",
        "    \"\"\"\n",
        "\n",
        "    imd = {}\n",
        "    for img in self.img_list:\n",
        "\n",
        "      no = int(img[ img.find(x) + len(x) : img.find(y) ])\n",
        "      imd[no] = img\n",
        "          \n",
        "    sorted_chs = [imd[k] for k in sorted(imd)]\n",
        "\n",
        "    self.sorted_images = sorted_chs\n",
        "    return sorted_chs \n",
        "\n",
        "\n",
        "  def format_imgs(self):\n",
        "    \"\"\"\n",
        "    converts the image of path to img objs,\n",
        "    and adds breaks between each image\n",
        "    \"\"\"\n",
        "\n",
        "    imdi = []\n",
        "    for im in self.sorted_images:\n",
        "\n",
        "      imdi.append(Image(im))\n",
        "      imdi.append(HTML('<div> <br>---------------------------<br> <br> </div>'))\n",
        "\n",
        "    self.formated_images = imdi\n",
        "\n",
        "  \n",
        "  def show_images(self):\n",
        "\n",
        "    display(HTML(\"\"\"\n",
        "    <style>\n",
        "    #output-body {\n",
        "        display: flex;\n",
        "        align-items: center;\n",
        "        justify-content: center;\n",
        "        flex-direction: column;\n",
        "    }\n",
        "    </style>\n",
        "    \"\"\"))\n",
        "    display(*self.formated_images)\n"
      ],
      "metadata": {
        "id": "Ft7NoFCzorH7"
      },
      "execution_count": null,
      "outputs": []
    },
    {
      "cell_type": "code",
      "source": [
        "#@title Start at / reset { run: \"auto\", display-mode: \"form\" }\n",
        "chn =  1 #@param {type:\"integer\"}\n",
        "print(chn)"
      ],
      "metadata": {
        "id": "YFUwVTH2em96",
        "outputId": "0c1b4fed-0aec-4363-f5ac-96e40c19a5ab",
        "colab": {
          "base_uri": "https://localhost:8080/"
        }
      },
      "execution_count": 13,
      "outputs": [
        {
          "output_type": "stream",
          "name": "stdout",
          "text": [
            "1\n"
          ]
        }
      ]
    },
    {
      "cell_type": "code",
      "source": [
        "#@title Run This { display-mode: \"form\" }\n",
        "\n",
        "da_im = ImageViewEr(f\"/content/chps/ch_{chn}\")\n",
        "\n",
        "da_im.sort_ls(\"img\",\".jpg\")\n",
        "da_im.format_imgs()\n",
        "\n",
        "da_im.show_images()\n",
        "\n",
        "chn += 1"
      ],
      "metadata": {
        "id": "fXflf2bsuBmO"
      },
      "execution_count": null,
      "outputs": []
    }
  ],
  "metadata": {
    "kernelspec": {
      "display_name": "Python 3",
      "name": "python3"
    },
    "language_info": {
      "name": "python"
    },
    "colab": {
      "name": "v4_mscra.ipynb",
      "provenance": []
    }
  },
  "nbformat": 4,
  "nbformat_minor": 0
}