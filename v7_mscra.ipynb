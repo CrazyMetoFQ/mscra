{
  "cells": [
    {
      "cell_type": "markdown",
      "source": [
        "# v6.5"
      ],
      "metadata": {
        "id": "Yu-0TwYgCU8K"
      }
    },
    {
      "cell_type": "code",
      "execution_count": null,
      "metadata": {
        "id": "fymO4m6FKnBd"
      },
      "outputs": [],
      "source": [
        "#@title Imports { display-mode: \"form\" }\n",
        "from time import time as time_now\n",
        "from time import sleep as time_sleep\n",
        "\n",
        "import requests\n",
        "from bs4 import BeautifulSoup\n",
        "\n",
        "import os\n",
        "import google.colab as gc\n",
        "\n",
        "!pip install img2pdf\n",
        "import img2pdf\n",
        "\n",
        "! pip install aiohttp\n",
        "\n",
        "from IPython.core.display import HTML, clear_output\n",
        "from IPython.display import Image,display\n",
        "from pprint import pprint\n",
        "\n",
        "from shutil import rmtree\n",
        "\n",
        "from pprint import pprint\n",
        "\n",
        "\n",
        "path2lib = \"mscra\"\n",
        "if os.path.isdir(path2lib):\n",
        "  rmtree(path2lib)\n",
        "else:\n",
        "  pass\n",
        "\n",
        "\n",
        "git_lib_branch = \"asyn_lib\"\n",
        "!git clone -b CrazyMetoFQ-$git_lib_branch https://github.com/CrazyMetoFQ/mscra.git \"mscra\"\n",
        "\n",
        "from mscra import img_dis as imgd\n",
        "\n",
        "do_clear_output = True #@param {type:\"boolean\"}\n",
        "if do_clear_output:\n",
        "  clear_output()\n",
        "else:pass"
      ]
    },
    {
      "cell_type": "markdown",
      "source": [
        "## Configurations"
      ],
      "metadata": {
        "id": "2v7EMCykcEEn"
      }
    },
    {
      "cell_type": "code",
      "source": [
        "#@title homePage urls\n",
        "\n",
        "homePage_url = \"url\" #@param {type:\"string\"}\n",
        "print_all = False #@param {type:\"boolean\"}\n",
        "print_done = True #@param {type:\"boolean\"}\n",
        "do_reverse = True #@param {type:\"boolean\"}\n",
        "\n",
        "#@markdown <br>\n",
        "\n",
        "start_l = 7 #@param {type:\"slider\", min:0, max:25, step:1}\n",
        "stop_l = -17 #@param {type:\"slider\", min:-25, max:1, step:1}\n",
        "step_l = 1 #@param {type:\"slider\", min:-2, max:2, step:1}\n",
        "\n",
        "#@markdown ---\n",
        "\n",
        "#@markdown U must configure this stuff properly to work, dont use if u are dumb\n",
        "\n",
        "if homePage_url != \"url\":\n",
        "\n",
        "  if stop_l == 0:\n",
        "    stop_l = None\n",
        "  else:\n",
        "    pass\n",
        "\n",
        "  hP_r = requests.get(homePage_url)\n",
        "  hP_soup = BeautifulSoup(hP_r.content, \"lxml\")\n",
        "\n",
        "  un_all_links = hP_soup.findAll(\"a\")\n",
        "\n",
        "  if print_all:\n",
        "    pprint(un_all_links)\n",
        "    print(\"\\n-----------------\\n\")\n",
        "  else:\n",
        "    pass\n",
        "\n",
        "  all_links = [l['href'] for l in un_all_links[start_l:stop_l:step_l]]\n",
        "\n",
        "  if do_reverse:\n",
        "    all_links.reverse()\n",
        "  else:\n",
        "    pass\n",
        "\n",
        "  if print_done:\n",
        "    pprint(all_links)\n",
        "  else:\n",
        "    pass\n",
        "\n",
        "\n",
        "else:\n",
        "  pass"
      ],
      "metadata": {
        "cellView": "form",
        "id": "h3FFgvDYcM0Z"
      },
      "execution_count": null,
      "outputs": []
    },
    {
      "cell_type": "code",
      "source": [
        "#@title Advanced Stuff\n",
        "#@markdown <br>\n",
        "\n",
        "# path to where the pdfs will reside\n",
        "ch_path = \"/content/chps\" #@param {type:\"string\"}\n",
        "#@markdown >><b><i> This is pretty important as it is ```[start:stop:step]``` for the list of imgs </i></b>, (image_args)\n",
        "imag_args = \"0,None,1\" #@param {type:\"string\"}\n",
        "\n",
        "\n",
        "do_delete_prev = True #@param {type:\"boolean\"}\n",
        "\n",
        "round_to = 3 #@param {type:\"slider\", min:1, max:10, step:1}\n",
        "\n",
        "do_print_args = True #@param {type:\"boolean\"}\n",
        "do_print_args = str(do_print_args)\n",
        "\n",
        "zip_file_name = \"file.zip\" #@param [\"/content/file.zip\", \"file.zip\", \"file2.zip\"] {allow-input: true}\n",
        "\n",
        "do_debug = False #@param {type:\"boolean\"}\n",
        "img_key = \"src\" #@param [\"src\", \"data-src\", \"lazy-loading-src\"] {allow-input: true}\n",
        "\n",
        "clear_wait = 0 #@param {type:\"slider\", min:0, max:15, step:1}\n",
        "\n"
      ],
      "metadata": {
        "cellView": "form",
        "id": "o57-tCBTdiZS"
      },
      "execution_count": null,
      "outputs": []
    },
    {
      "cell_type": "markdown",
      "source": [
        "## Main Stuff"
      ],
      "metadata": {
        "id": "Jj3I9sbUc4Pm"
      }
    },
    {
      "cell_type": "code",
      "execution_count": null,
      "metadata": {
        "id": "nidXI5OKCvwB"
      },
      "outputs": [],
      "source": [
        "start_time = time_now()\n",
        "#@title Main Thing { display-mode: \"form\" }\n",
        "#@markdown ---\n",
        "#@markdown >Get the link by going to the websites first chapter then remove the ch number and replace with {}. <br>\n",
        "#@markdown >Min, max are the number of chapters u want\n",
        "# base_link where the number will change in the link such as ch-1, ch-2 put {}\n",
        "base_link = \"https://w12.mangafreak.net/Read1_Darling_In_The_Franxx_{}\" #@param {type:\"string\"}\n",
        "\n",
        "# putting numbers in the link\n",
        "min_ =  1 #@param {type:\"number\"}\n",
        "max_ =   3#@param {type:\"number\"}\n",
        "single_ = False #@param {type:\"boolean\"}\n",
        "\n",
        "#@markdown > this ignores base link and uses from all_links\n",
        "is_homePage = False #@param {type:\"boolean\"}\n",
        "\n",
        "#@markdown ---\n",
        "\n",
        "#@markdown *↓ use this to change file type (u can natively view img) ↓*\n",
        "save_file_as = \"pdf\" #@param [\"pdf\", \"image\"]\n",
        "save_file_format = \".pdf\" #@param [\".pdf\", \".jpeg\", \".jpg\", \".png\"]\n",
        "#@markdown ---\n",
        "\n",
        "do_zip = True #@param {type:\"boolean\"}\n",
        "do_download = True #@param {type:\"boolean\"}\n",
        "\n",
        "clear_at_end = False #@param {type:\"boolean\"}\n",
        "\n",
        "#@markdown ---\n",
        "#@markdown <br> <br>\n",
        "\n",
        "\n",
        "\n",
        "# correcting path\n",
        "if not os.path.isdir(ch_path):\n",
        "  os.mkdir(ch_path)\n",
        "else:\n",
        "  # deleting previos stuff then remake\n",
        "  rmtree(ch_path)    \n",
        "  os.mkdir(ch_path)\n",
        "\n",
        "\n",
        "\n",
        "if is_homePage:\n",
        "\n",
        "  with open(f\"{path2lib}/pg_links_.csv\", \"w\") as f:\n",
        "    f.write(str(all_links[min_:max_]).strip(\"[]\").replace(\"'\",\"\"))\n",
        "\n",
        "else:\n",
        "  pass\n",
        "\n",
        "\n",
        "s = base_link.replace(\".html\",\"\")\n",
        "home_link = s[:s.rfind('.')+s[s.rfind('.'):].find(\"/\")]\n",
        "\n",
        "\n",
        "\n",
        "# MAIN calling\n",
        "! python \"$path2lib/rasyn.py\" $base_link $min_ $max_\\\n",
        "                              $single_ $home_link $is_homePage \\\n",
        "                              $ch_path $save_file_as $save_file_format \\\n",
        "                              $do_print_args $round_to $imag_args $do_debug $img_key\n",
        "\n",
        "\n",
        "\n",
        "ch_end_time = time_now()\n",
        "print(f\"\\nChapter Execution Time {round(ch_end_time - start_time, round_to)}\")\n",
        "\n",
        "\n",
        "if do_zip:\n",
        "  print(\"\\n-----------------------------\\nNow Zipping\")\n",
        "  \n",
        "  # zipping\n",
        "  ! zip -r file.zip $ch_path\n",
        "  \n",
        "  zip_end_time = time_now()\n",
        "  print(f\"\\nZip Execution Time {round(zip_end_time - start_time, round_to)}\")\n",
        "else:\n",
        "  pass\n",
        "\n",
        "if do_download:\n",
        "  if os.path.isfile(\"file.zip\"):\n",
        "    # downloading\n",
        "    gc.files.download(\"file.zip\")\n",
        "  else:\n",
        "    print(\"Do Zip First\")\n",
        "\n",
        "  dw_end_time = time_now()\n",
        "  print(f\"\\nDownload Init Time {round(dw_end_time - start_time, round_to)}\")\n",
        "else:\n",
        "  pass\n",
        "\n",
        "if clear_at_end:\n",
        "  time_sleep(clear_wait)\n",
        "  clear_output()\n",
        "else:pass\n",
        "\n",
        "print(\"You did It\")\n",
        "end_time = time_now()\n",
        "print(f\"\\nTotal Execution time {round(end_time - start_time, round_to)}\")\n"
      ]
    },
    {
      "cell_type": "markdown",
      "metadata": {
        "id": "x0qJKOGqan8R"
      },
      "source": [
        "\n",
        "---\n",
        "\n",
        "\n",
        "It will now take some to download,my code is fast but colab download is slow\n",
        "<br>\n",
        "but if u go in files in folder chps u can individually download a pdf which is faster if u just want to see one chapter.\n",
        "<hr>\n",
        "(btw dont try spam downloading otherwise your browser might block it as spam download)\n",
        "\n",
        "---\n",
        "\n"
      ]
    },
    {
      "cell_type": "markdown",
      "source": [
        "## View Images"
      ],
      "metadata": {
        "id": "cp5FNWyTdwll"
      }
    },
    {
      "cell_type": "code",
      "source": [
        "#@title Start at / reset { run: \"auto\", display-mode: \"form\" }\n",
        "chn =  1 #@param {type:\"integer\"}\n",
        "print(chn)"
      ],
      "metadata": {
        "id": "YFUwVTH2em96"
      },
      "execution_count": null,
      "outputs": []
    },
    {
      "cell_type": "code",
      "source": [
        "#@title Run This { display-mode: \"form\" }\n",
        "\n",
        "run_this = False #@param {type:\"boolean\"}\n",
        "\n",
        "if run_this:\n",
        "\n",
        "  da_im = imgd.ImageViewEr(f\"/content/chps/ch_{chn}\")\n",
        "\n",
        "  da_im.sort_ls(\"img\",\".jpg\")\n",
        "  da_im.format_imgs()\n",
        "\n",
        "  da_im.show_images()\n",
        "\n",
        "  chn += 1\n",
        "\n",
        "else:\n",
        "  pass"
      ],
      "metadata": {
        "id": "fXflf2bsuBmO"
      },
      "execution_count": null,
      "outputs": []
    }
  ],
  "metadata": {
    "kernelspec": {
      "display_name": "Python 3",
      "name": "python3"
    },
    "language_info": {
      "name": "python"
    },
    "colab": {
      "name": "v6_mscra.ipynb",
      "provenance": []
    }
  },
  "nbformat": 4,
  "nbformat_minor": 0
}