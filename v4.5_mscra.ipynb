{
  "cells": [
    {
      "cell_type": "markdown",
      "source": [
        "# v3.4"
      ],
      "metadata": {
        "id": "Yu-0TwYgCU8K"
      }
    },
    {
      "cell_type": "code",
      "execution_count": null,
      "metadata": {
        "id": "fymO4m6FKnBd"
      },
      "outputs": [],
      "source": [
        "#@title Imports { display-mode: \"form\" }\n",
        "from time import time as time_now\n",
        "from time import sleep as time_sleep\n",
        "\n",
        "import requests\n",
        "from bs4 import BeautifulSoup\n",
        "\n",
        "import os\n",
        "import google.colab as gc\n",
        "\n",
        "!pip install img2pdf\n",
        "import img2pdf\n",
        "\n",
        "! pip install aiohttp\n",
        "\n",
        "from IPython.core.display import HTML, clear_output\n",
        "from IPython.display import Image,display\n",
        "from pprint import pprint\n",
        "\n",
        "from shutil import rmtree\n",
        "\n",
        "\n",
        "\n",
        "# the following has nealy no use, but looks pretty\n",
        "path2lib = \"mscra\" #@param {type:\"string\"}\n",
        "if \"/content\" not in path2lib:\n",
        "  path2lib = \"/content/\" + path2lib\n",
        "else:pass\n",
        "# end of useless\n",
        "\n",
        "if os.path.isdir(path2lib):\n",
        "  rmtree(path2lib)\n",
        "else:\n",
        "  pass\n",
        "\n",
        "!git clone -b CrazyMetoFQ-asyn_lib https://github.com/CrazyMetoFQ/mscra.git $path2lib\n",
        "\n",
        "\n",
        "from mscra import img_dis as imgd\n",
        "\n",
        "\n",
        "\n",
        "do_clear_output = True #@param {type:\"boolean\"}\n",
        "if do_clear_output:\n",
        "  clear_output()\n",
        "else:pass"
      ]
    },
    {
      "cell_type": "markdown",
      "source": [
        "## MAIN\n",
        "\n"
      ],
      "metadata": {
        "id": "B5qFEuiJwAIT"
      }
    },
    {
      "cell_type": "code",
      "source": [
        "#@title homePage urls\n",
        "\n",
        "homePage_url = \"https://redo-of-healer.online/\" #@param {type:\"string\"}\n",
        "print_all = False #@param {type:\"boolean\"}\n",
        "print_done = True #@param {type:\"boolean\"}\n",
        "do_reverse = True #@param {type:\"boolean\"}\n",
        "\n",
        "#@markdown <br>\n",
        "\n",
        "start_l = 6 #@param {type:\"slider\", min:0, max:25, step:1}\n",
        "stop_l = -12 #@param {type:\"slider\", min:-25, max:1, step:1}\n",
        "step_l = 1 #@param {type:\"slider\", min:-2, max:2, step:1}\n",
        "\n",
        "#@markdown ---\n",
        "\n",
        "if stop_l == 0:\n",
        "  stop_l = None\n",
        "else:\n",
        "  pass\n",
        "\n",
        "hP_r = requests.get(homePage_url)\n",
        "hP_soup = BeautifulSoup(hP_r.content, \"lxml\")\n",
        "\n",
        "un_all_links = hP_soup.findAll(\"a\")\n",
        "\n",
        "if print_all:\n",
        "  pprint(un_all_links)\n",
        "  print(\"\\n-----------------\\n\")\n",
        "else:\n",
        "  pass\n",
        "\n",
        "all_links = [l['href'] for l in un_all_links[start_l:stop_l:step_l]]\n",
        "\n",
        "if do_reverse:\n",
        "  all_links.reverse()\n",
        "else:\n",
        "  pass\n",
        "\n",
        "if print_done:\n",
        "  pprint(all_links)\n",
        "else:\n",
        "  pass"
      ],
      "metadata": {
        "id": "1w0Jho2ZIS61",
        "cellView": "form"
      },
      "execution_count": null,
      "outputs": []
    },
    {
      "cell_type": "code",
      "source": [
        "str(all_links).strip(\"[]\").replace(\"'\",\"\")"
      ],
      "metadata": {
        "id": "y-lx4tnFmHca",
        "outputId": "2f09eb9c-60e6-4105-9699-fa02c3071171",
        "colab": {
          "base_uri": "https://localhost:8080/",
          "height": 87
        }
      },
      "execution_count": 37,
      "outputs": [
        {
          "output_type": "execute_result",
          "data": {
            "application/vnd.google.colaboratory.intrinsic+json": {
              "type": "string"
            },
            "text/plain": [
              "'https://redo-of-healer.online/manga/redo-of-healer-chapter-0/, https://redo-of-healer.online/manga/redo-of-healer-chapter-1/, https://redo-of-healer.online/manga/redo-of-healer-chapter-1-1/, https://redo-of-healer.online/manga/redo-of-healer-chapter-1-2/, https://redo-of-healer.online/manga/redo-of-healer-chapter-2-1/, https://redo-of-healer.online/manga/redo-of-healer-chapter-2-2/, https://redo-of-healer.online/manga/redo-of-healer-chapter-3-1/, https://redo-of-healer.online/manga/redo-of-healer-chapter-3-2/, https://redo-of-healer.online/manga/redo-of-healer-chapter-4-1/, https://redo-of-healer.online/manga/redo-of-healer-chapter-4-2/, https://redo-of-healer.online/manga/redo-of-healer-chapter-5-1/, https://redo-of-healer.online/manga/redo-of-healer-chapter-5-2/, https://redo-of-healer.online/manga/redo-of-healer-chapter-6-1/, https://redo-of-healer.online/manga/redo-of-healer-chapter-6-2/, https://redo-of-healer.online/manga/redo-of-healer-chapter-7-1/, https://redo-of-healer.online/manga/redo-of-healer-chapter-7-2/, https://redo-of-healer.online/manga/redo-of-healer-chapter-8-1/, https://redo-of-healer.online/manga/redo-of-healer-chapter-8-2/, https://redo-of-healer.online/manga/redo-of-healer-chapter-9-1/, https://redo-of-healer.online/manga/redo-of-healer-chapter-9-2/, https://redo-of-healer.online/manga/redo-of-healer-chapter-10-1/, https://redo-of-healer.online/manga/redo-of-healer-chapter-10-2/, https://redo-of-healer.online/manga/redo-of-healer-chapter-11-1/, https://redo-of-healer.online/manga/redo-of-healer-chapter-11-2/, https://redo-of-healer.online/manga/redo-of-healer-chapter-12-1/, https://redo-of-healer.online/manga/redo-of-healer-chapter-12-2/, https://redo-of-healer.online/manga/redo-of-healer-chapter-13-1/, https://redo-of-healer.online/manga/redo-of-healer-chapter-13-2/, https://redo-of-healer.online/manga/redo-of-healer-chapter-14-1/, https://redo-of-healer.online/manga/redo-of-healer-chapter-14-2/, https://redo-of-healer.online/manga/redo-of-healer-chapter-14-3/, https://redo-of-healer.online/manga/redo-of-healer-chapter-15-1/, https://redo-of-healer.online/manga/redo-of-healer-chapter-15-2/, https://redo-of-healer.online/manga/redo-of-healer-chapter-16-1/, https://redo-of-healer.online/manga/redo-of-healer-chapter-16-2/, https://redo-of-healer.online/manga/redo-of-healer-chapter-16-3/, https://redo-of-healer.online/manga/redo-of-healer-chapter-17-1/, https://redo-of-healer.online/manga/redo-of-healer-chapter-17-2/, https://redo-of-healer.online/manga/redo-of-healer-chapter-17-3/, https://redo-of-healer.online/manga/redo-of-healer-chapter-18-1-chance-meeting/, https://redo-of-healer.online/manga/redo-of-healer-chapter-18-2/, https://redo-of-healer.online/manga/redo-of-healer-chapter-18-3/, https://redo-of-healer.online/manga/redo-of-healer-chapter-19-1/, https://redo-of-healer.online/manga/redo-of-healer-chapter-19-2/, https://redo-of-healer.online/manga/redo-of-healer-chapter-20-1/, https://redo-of-healer.online/manga/redo-of-healer-chapter-20-2/, https://redo-of-healer.online/manga/redo-of-healer-chapter-21-1/, https://redo-of-healer.online/manga/redo-of-healer-chapter-21-2/, https://redo-of-healer.online/manga/redo-of-healer-chapter-22-1/, https://redo-of-healer.online/manga/redo-of-healer-chapter-22-2/, https://redo-of-healer.online/manga/redo-of-healer-chapter-23-1/, https://redo-of-healer.online/manga/redo-of-healer-chapter-23-2/, https://redo-of-healer.online/manga/redo-of-healer-chapter-24-1/, https://redo-of-healer.online/manga/redo-of-healer-chapter-24-2/, https://redo-of-healer.online/manga/redo-of-healer-chapter-25-1/, https://redo-of-healer.online/manga/redo-of-healer-chapter-25-2/, https://redo-of-healer.online/manga/redo-of-healer-chapter-26-1/, https://redo-of-healer.online/manga/redo-of-healer-chapter-26-2/, https://redo-of-healer.online/manga/redo-of-healer-chapter-27-1/, https://redo-of-healer.online/manga/redo-of-healer-chapter-27-2/, https://redo-of-healer.online/manga/redo-of-healer-chapter-28-1/, https://redo-of-healer.online/manga/redo-of-healer-chapter-28-2/, https://redo-of-healer.online/manga/redo-of-healer-chapter-29-1/, https://redo-of-healer.online/manga/redo-of-healer-chapter-29-2/, https://redo-of-healer.online/manga/redo-of-healer-chapter-30-1/, https://redo-of-healer.online/manga/redo-of-healer-chapter-30-2/, https://redo-of-healer.online/manga/redo-of-healer-chapter-31-1/, https://redo-of-healer.online/manga/redo-of-healer-chapter-31-2/, https://redo-of-healer.online/manga/redo-of-healer-chapter-32-1/, https://redo-of-healer.online/manga/redo-of-healer-chapter-33/, https://redo-of-healer.online/manga/redo-of-healer-chapter-34-1/, https://redo-of-healer.online/manga/redo-of-healer-chapter-34-2/, https://redo-of-healer.online/manga/redo-of-healer-chapter-35-1/, https://redo-of-healer.online/manga/redo-of-healer-chapter-35-2/, https://redo-of-healer.online/manga/redo-of-healer-chapter-36/, https://redo-of-healer.online/manga/redo-of-healer-chapter-36-2/, https://redo-of-healer.online/manga/redo-of-healer-chapter-37/, https://redo-of-healer.online/manga/redo-of-healer-chapter-37-2/, https://redo-of-healer.online/manga/redo-of-healer-chapter-38-1/, https://redo-of-healer.online/manga/redo-of-healer-chapter-38-2/, https://redo-of-healer.online/manga/redo-of-healer-chapter-39/, https://redo-of-healer.online/manga/redo-of-healer-chapter-40/, https://redo-of-healer.online/manga/redo-of-healer-chapter-41/'"
            ]
          },
          "metadata": {},
          "execution_count": 37
        }
      ]
    },
    {
      "cell_type": "code",
      "execution_count": null,
      "metadata": {
        "id": "nidXI5OKCvwB"
      },
      "outputs": [],
      "source": [
        "start_time = time_now()\n",
        "#@title Asyncrous Requests (supa fast multi) THIS IS THE MAIN STUFF TO RUN { display-mode: \"form\" }\n",
        "#@markdown ---\n",
        "#@markdown #Main Stuff:\n",
        "#@markdown >Get the link by going to the websites first chapter then remove the ch number and replace with {}. <br>\n",
        "#@markdown >Min, max are the number of chapters u want\n",
        "# base_link where the number will change in the link such as ch-1, ch-2 put {}\n",
        "base_link = \"https://read-onepiecemanga.com/manga/one-piece-chapter-{}/\" #@param {type:\"string\"}\n",
        "\n",
        "# putting numbers in the link\n",
        "min_ =  1 #@param {type:\"number\"}\n",
        "max_ =   3#@param {type:\"number\"}\n",
        "single_ = False #@param {type:\"boolean\"}\n",
        "\n",
        "#@markdown > this ignores base link and uses from all_links\n",
        "is_homePage = True #@param {type:\"boolean\"}\n",
        "\n",
        "\n",
        "#@markdown *↓ use this to change file type (u can natively view img) ↓*\n",
        "save_file_as = \"image\" #@param [\"pdf\", \"image\"]\n",
        "save_file_format = \".jpg\" #@param [\".pdf\", \".jpeg\", \".jpg\", \".png\"] {allow-input: true}\n",
        "\n",
        "#@markdown ---\n",
        "\n",
        "clear_at_end = False #@param {type:\"boolean\"}\n",
        "clear_wait = 0 #@param {type:\"slider\", min:0, max:15, step:1}\n",
        "\n",
        "\n",
        "\n",
        "#@markdown ---\n",
        "#@markdown <br> <br>\n",
        "\n",
        "#@markdown ##Advanced Stuff\n",
        "#@markdown <br>\n",
        "\n",
        "# path to where the pdfs will reside\n",
        "ch_path = \"/content/chps\" #@param {type:\"string\"}\n",
        "#@markdown >><b><i> This is pretty important as it is ```[start:stop:step]``` for the list of imgs </i></b>, (image_args)\n",
        "imag_args = \"0,None,1\" #@param {type:\"string\"}\n",
        "\n",
        "do_zip = False #@param {type:\"boolean\"}\n",
        "do_download = False #@param {type:\"boolean\"}\n",
        "do_delete_prev = True #@param {type:\"boolean\"}\n",
        "\n",
        "round_to = 3 #@param {type:\"slider\", min:1, max:10, step:1}\n",
        "\n",
        "do_print_args = True #@param {type:\"boolean\"}\n",
        "do_print_args = str(do_print_args)\n",
        "\n",
        "zip_file_name = \"file.zip\" #@param [\"/content/file.zip\", \"file.zip\", \"file2.zip\"] {allow-input: true}\n",
        "\n",
        "do_debug = False #@param {type:\"boolean\"}\n",
        "img_key = \"src\" #@param [\"src\", \"data-src\", \"lazy-loading-src\"] {allow-input: true}\n",
        "\n",
        "\n",
        "\n",
        "# correcting path\n",
        "if not os.path.isdir(ch_path):\n",
        "  os.mkdir(ch_path)\n",
        "else:\n",
        "  # deleting previos stuff then remake\n",
        "  rmtree(ch_path)    \n",
        "  os.mkdir(ch_path)\n",
        "\n",
        "if is_homePage:\n",
        "\n",
        "  with open(f\"{path2lib}/pg_links_.csv\") as f:\n",
        "    f.write([i for i in all_imgs])\n",
        "\n",
        "\n",
        "\n",
        "\n",
        "\n",
        "\n",
        "# MAIN calling\n",
        "! python \"$path2lib/rasyn.py\" $base_link $min_ $max_ $single_ $is_homePage $ch_path $save_file_as $save_file_format $do_print_args $round_to $imag_args $do_debug $img_key\n",
        "\n",
        "\n",
        "\n",
        "ch_end_time = time_now()\n",
        "print(f\"\\nChapter Execution Time {round(ch_end_time - start_time, round_to)}\")\n",
        "\n",
        "\n",
        "if do_zip:\n",
        "  print(\"\\n-----------------------------\\nNow Zipping\")\n",
        "  \n",
        "  # zipping\n",
        "  ! zip -r file.zip $ch_path\n",
        "  \n",
        "  zip_end_time = time_now()\n",
        "  print(f\"\\nZip Execution Time {round(zip_end_time - start_time, round_to)}\")\n",
        "else:\n",
        "  pass\n",
        "\n",
        "if do_download:\n",
        "  if os.path.isfile(\"file.zip\"):\n",
        "    # downloading\n",
        "    gc.files.download(\"file.zip\")\n",
        "  else:\n",
        "    print(\"Do Zip First\")\n",
        "\n",
        "  dw_end_time = time_now()\n",
        "  print(f\"\\nDownload Init Time {round(dw_end_time - start_time, round_to)}\")\n",
        "else:\n",
        "  pass\n",
        "\n",
        "if clear_at_end:\n",
        "  time_sleep(clear_wait)\n",
        "  clear_output()\n",
        "else:pass\n",
        "\n",
        "print(\"You did It\")\n",
        "end_time = time_now()\n",
        "print(f\"\\nTotal Execution time {round(end_time - start_time, round_to)}\")\n"
      ]
    },
    {
      "cell_type": "markdown",
      "metadata": {
        "id": "x0qJKOGqan8R"
      },
      "source": [
        "\n",
        "---\n",
        "\n",
        "\n",
        "It will now take some to download,my code is fast but colab download is slow\n",
        "<br>\n",
        "but if u go in files in folder chps u can individually download a pdf which is faster if u just want to see one chapter.\n",
        "<hr>\n",
        "(btw dont try spam downloading otherwise your browser might block it as spam download)\n",
        "\n",
        "---\n",
        "\n"
      ]
    },
    {
      "cell_type": "code",
      "source": [
        "#@title Start at / reset { run: \"auto\", display-mode: \"form\" }\n",
        "chn =  1 #@param {type:\"integer\"}\n",
        "print(chn)"
      ],
      "metadata": {
        "id": "YFUwVTH2em96",
        "outputId": "94193da9-7ac9-4811-de7d-b12e990d16ed",
        "colab": {
          "base_uri": "https://localhost:8080/"
        }
      },
      "execution_count": null,
      "outputs": [
        {
          "output_type": "stream",
          "name": "stdout",
          "text": [
            "1\n"
          ]
        }
      ]
    },
    {
      "cell_type": "code",
      "source": [
        "#@title Run This { display-mode: \"form\" }\n",
        "\n",
        "da_im = imgd.ImageViewEr(f\"/content/chps/ch_{chn}\")\n",
        "\n",
        "da_im.sort_ls(\"img\",\".jpg\")\n",
        "da_im.format_imgs()\n",
        "\n",
        "da_im.show_images()\n",
        "\n",
        "chn += 1"
      ],
      "metadata": {
        "id": "fXflf2bsuBmO"
      },
      "execution_count": null,
      "outputs": []
    }
  ],
  "metadata": {
    "kernelspec": {
      "display_name": "Python 3",
      "name": "python3"
    },
    "language_info": {
      "name": "python"
    },
    "colab": {
      "name": "v45_mscra.ipynb",
      "provenance": []
    }
  },
  "nbformat": 4,
  "nbformat_minor": 0
}